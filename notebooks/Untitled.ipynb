{
 "cells": [
  {
   "cell_type": "code",
   "execution_count": 1,
   "id": "0e858db9-df62-4ab4-aa25-5967162e0ab5",
   "metadata": {},
   "outputs": [
    {
     "name": "stdout",
     "output_type": "stream",
     "text": [
      "root\n",
      " |-- id: long (nullable = true)\n",
      " |-- name: string (nullable = true)\n",
      " |-- short_description: string (nullable = true)\n",
      " |-- price: long (nullable = true)\n",
      " |-- list_price: long (nullable = true)\n",
      " |-- discount: long (nullable = true)\n",
      " |-- discount_rate: long (nullable = true)\n",
      " |-- all_time_quantity_sold: long (nullable = true)\n",
      " |-- inventory_status: string (nullable = true)\n",
      " |-- stock_item_qty: long (nullable = true)\n",
      " |-- stock_item_max_sale_qty: long (nullable = true)\n",
      "\n",
      "+---------+--------------------+--------------------+------+----------+--------+-------------+----------------------+----------------+--------------+-----------------------+\n",
      "|       id|                name|   short_description| price|list_price|discount|discount_rate|all_time_quantity_sold|inventory_status|stock_item_qty|stock_item_max_sale_qty|\n",
      "+---------+--------------------+--------------------+------+----------+--------+-------------+----------------------+----------------+--------------+-----------------------+\n",
      "|277728224|Nói Chuyện Là Bản...|Tuân Tử nói: “Nói...|117180|    127000|    9820|            8|                  8628|       available|          1000|                   1000|\n",
      "|277728224|Nói Chuyện Là Bản...|Tuân Tử nói: “Nói...|117180|    127000|    9820|            8|                  8629|       available|          1000|                   1000|\n",
      "+---------+--------------------+--------------------+------+----------+--------+-------------+----------------------+----------------+--------------+-----------------------+\n",
      "\n"
     ]
    }
   ],
   "source": [
    "from pyspark.sql import SparkSession\n",
    "from pyspark.sql.types import StructType, StructField, DoubleType, LongType, StringType\n",
    "\n",
    "spark = SparkSession.builder \\\n",
    "    .appName(\"Check Parquet Files\") \\\n",
    "    .config(\"spark.hadoop.fs.defaultFS\", \"hdfs://namenode:9000\") \\\n",
    "    .getOrCreate()\n",
    "parquet_schema = StructType([\n",
    "    StructField(\"id\", LongType(), True),\n",
    "    StructField(\"name\", StringType(), True),\n",
    "    StructField(\"short_description\", StringType(), True),\n",
    "    StructField(\"price\", LongType(), True),\n",
    "    StructField(\"list_price\", LongType(), True),\n",
    "    StructField(\"discount\", LongType(), True),\n",
    "    StructField(\"discount_rate\", LongType(), True),\n",
    "    StructField(\"all_time_quantity_sold\", LongType(), True),\n",
    "    StructField(\"inventory_status\", StringType(), True),\n",
    "    StructField(\"stock_item_qty\", LongType(), True),\n",
    "    StructField(\"stock_item_max_sale_qty\", LongType(), True)\n",
    "])\n",
    "\n",
    "df = spark.read.schema(parquet_schema).parquet(\"hdfs://namenode:9000/user/airflow/details/\")\n",
    "df.printSchema() \n",
    "df.show(truncate=True)"
   ]
  },
  {
   "cell_type": "code",
   "execution_count": 3,
   "id": "850b4c39-27ce-446e-a9a6-9ca611233fae",
   "metadata": {},
   "outputs": [
    {
     "name": "stdout",
     "output_type": "stream",
     "text": [
      "root\n",
      " |-- id: long (nullable = true)\n",
      " |-- name: string (nullable = true)\n",
      " |-- short_description: string (nullable = true)\n",
      " |-- price: long (nullable = true)\n",
      " |-- list_price: long (nullable = true)\n",
      " |-- discount: long (nullable = true)\n",
      " |-- discount_rate: long (nullable = true)\n",
      " |-- all_time_quantity_sold: long (nullable = true)\n",
      " |-- inventory_status: string (nullable = true)\n",
      " |-- stock_item_qty: long (nullable = true)\n",
      " |-- stock_item_max_sale_qty: long (nullable = true)\n",
      "\n",
      "+---------+--------------------+--------------------+------+----------+--------+-------------+----------------------+----------------+--------------+-----------------------+\n",
      "|       id|                name|   short_description| price|list_price|discount|discount_rate|all_time_quantity_sold|inventory_status|stock_item_qty|stock_item_max_sale_qty|\n",
      "+---------+--------------------+--------------------+------+----------+--------+-------------+----------------------+----------------+--------------+-----------------------+\n",
      "|277728224|Nói Chuyện Là Bản...|Tuân Tử nói: “Nói...|117180|    127000|    9820|            8|                  8628|       available|          1000|                   1000|\n",
      "|277728224|Nói Chuyện Là Bản...|Tuân Tử nói: “Nói...|117180|    127000|    9820|            8|                  8629|       available|          1000|                   1000|\n",
      "+---------+--------------------+--------------------+------+----------+--------+-------------+----------------------+----------------+--------------+-----------------------+\n",
      "\n"
     ]
    }
   ],
   "source": [
    "from pyspark.sql.functions import col, trim\n",
    "\n",
    "required_columns = [\"id\", \"name\", \"price\", \"list_price\", \"inventory_status\"]\n",
    "df_clean = df.dropna(subset=required_columns)\n",
    "\n",
    "df_clean = df_clean.dropDuplicates()\n",
    "\n",
    "# 3. Lọc các giá trị không hợp lệ (ví dụ: giá hoặc số lượng âm)\n",
    "df_clean = df_clean.filter(\n",
    "    (col(\"price\") >= 0) &\n",
    "    (col(\"list_price\") >= 0) &\n",
    "    (col(\"discount\") >= 0) &\n",
    "    (col(\"discount_rate\") >= 0) &\n",
    "    (col(\"all_time_quantity_sold\") >= 0) &\n",
    "    (col(\"stock_item_qty\") >= 0) &\n",
    "    (col(\"stock_item_max_sale_qty\") >= 0)\n",
    ")\n",
    "\n",
    "df_clean = df_clean.withColumn(\"name\", trim(col(\"name\"))) \\\n",
    "                   .withColumn(\"short_description\", trim(col(\"short_description\"))) \\\n",
    "                   .withColumn(\"inventory_status\", trim(col(\"inventory_status\")))\n",
    "\n",
    "df_clean.printSchema()\n",
    "df_clean.show(truncate=True)\n"
   ]
  },
  {
   "cell_type": "code",
   "execution_count": null,
   "id": "68ebe0e3-99a1-4cd5-94da-a647555646d2",
   "metadata": {},
   "outputs": [],
   "source": []
  }
 ],
 "metadata": {
  "kernelspec": {
   "display_name": "Python 3 (ipykernel)",
   "language": "python",
   "name": "python3"
  },
  "language_info": {
   "codemirror_mode": {
    "name": "ipython",
    "version": 3
   },
   "file_extension": ".py",
   "mimetype": "text/x-python",
   "name": "python",
   "nbconvert_exporter": "python",
   "pygments_lexer": "ipython3",
   "version": "3.11.6"
  }
 },
 "nbformat": 4,
 "nbformat_minor": 5
}
