{
 "cells": [
  {
   "cell_type": "code",
   "execution_count": 26,
   "metadata": {},
   "outputs": [],
   "source": [
    "import requests\n",
    "import pandas as pd\n",
    "from tqdm.notebook import tqdm\n",
    "import time, random"
   ]
  },
  {
   "cell_type": "markdown",
   "metadata": {},
   "source": [
    "### Lấy category id"
   ]
  },
  {
   "cell_type": "code",
   "execution_count": 27,
   "metadata": {},
   "outputs": [],
   "source": [
    "HEADERS = {\n",
    "    'User-Agent': 'Mozilla/5.0 (Windows NT 10.0; Win64; x64) AppleWebKit/537.36 (KHTML, like Gecko) Chrome/134.0.0.0 Safari/537.36 Edg/134.0.0.0',\n",
    "    'Accept': 'application/json, text/plain, */*',\n",
    "    'Accept-Language': 'vi,en-US;q=0.9,en;q=0.8',\n",
    "    'x-guest-token': 'acuqSeZsnKCWVgofFGjxJi7Ot4N8dPpX',\n",
    "    'Connection': 'keep-alive',\n",
    "}"
   ]
  },
  {
   "cell_type": "code",
   "execution_count": 28,
   "metadata": {},
   "outputs": [
    {
     "name": "stdout",
     "output_type": "stream",
     "text": [
      "26\n"
     ]
    }
   ],
   "source": [
    "response = requests.get(\"https://api.tiki.vn/raiden/v2/menu-config\", headers=HEADERS)\n",
    "\n",
    "categories_id = []\n",
    "if response.status_code == 200:\n",
    "    menu = response.json().get('menu_block').get('items')\n",
    "    categories_id = [category['link'].split('/c')[-1] for category in menu]\n",
    "\n",
    "time.sleep(random.uniform(0.5, 2))\n",
    "print(len(categories_id))"
   ]
  },
  {
   "cell_type": "markdown",
   "metadata": {},
   "source": [
    "### Lấy id của sản phẩm"
   ]
  },
  {
   "cell_type": "code",
   "execution_count": 29,
   "metadata": {},
   "outputs": [
    {
     "data": {
      "application/vnd.jupyter.widget-view+json": {
       "model_id": "a5fc63f0fbf3437cafcd0e0f297e7cca",
       "version_major": 2,
       "version_minor": 0
      },
      "text/plain": [
       "  0%|          | 0/26 [00:00<?, ?it/s]"
      ]
     },
     "metadata": {},
     "output_type": "display_data"
    },
    {
     "name": "stdout",
     "output_type": "stream",
     "text": [
      "1040\n"
     ]
    }
   ],
   "source": [
    "products_id = []\n",
    "\n",
    "for category_id in tqdm(categories_id):\n",
    "    response = requests.get(f'https://tiki.vn/api/personalish/v1/blocks/listings?category={category_id}', headers=HEADERS)\n",
    "    \n",
    "    if response.status_code == 200:\n",
    "        for product in response.json().get('data'):\n",
    "            products_id.append(product.get('id'))\n",
    "    else:\n",
    "        print(f'Category {category_id}: {response}')\n",
    "    \n",
    "    time.sleep(random.uniform(0.5, 2))\n",
    "print(len(products_id))"
   ]
  },
  {
   "cell_type": "markdown",
   "metadata": {},
   "source": [
    "### Lấy comment trên từng sản phẩm"
   ]
  },
  {
   "cell_type": "code",
   "execution_count": null,
   "metadata": {},
   "outputs": [
    {
     "data": {
      "application/vnd.jupyter.widget-view+json": {
       "model_id": "ac04f1327e484887a2cfcd7dbc986e49",
       "version_major": 2,
       "version_minor": 0
      },
      "text/plain": [
       "  0%|          | 0/1040 [00:00<?, ?it/s]"
      ]
     },
     "metadata": {},
     "output_type": "display_data"
    },
    {
     "name": "stdout",
     "output_type": "stream",
     "text": [
      "4707\n"
     ]
    }
   ],
   "source": [
    "def comment_parser(json):\n",
    "    dic = dict()\n",
    "    dic['id'] = json.get('id', None)\n",
    "    dic['title'] = json.get('title', None)\n",
    "    dic['content'] = json.get('content', None)\n",
    "    dic['rating'] = json.get('rating', None)\n",
    "    dic['created_at'] = json.get('created_at', None)\n",
    "    dic['purchased_at'] = json.get('created_by', {}).get('purchased_at', None)\n",
    "    return dic\n",
    "\n",
    "params = {\n",
    "    'limit': 5,\n",
    "    'page': 1,\n",
    "    'include': 'comments',\n",
    "    'sort': 'score|desc,id|desc,stars|all'\n",
    "}\n",
    "\n",
    "comments = []\n",
    "for product_id in tqdm(products_id):\n",
    "    params['product_id'] = product_id\n",
    "    response = requests.get('https://tiki.vn/api/v2/reviews', headers=HEADERS, params=params)\n",
    "\n",
    "    if response.status_code == 200:\n",
    "        for comment in response.json().get('data'):\n",
    "            comments.append(comment_parser(comment))\n",
    "    else:\n",
    "        print(f'Product {product_id}: {response.status_code}')\n",
    "\n",
    "    time.sleep(random.uniform(0.5, 2))\n",
    "print(len(comments))"
   ]
  },
  {
   "cell_type": "markdown",
   "metadata": {},
   "source": [
    "### Lấy thông tin sản phẩm"
   ]
  },
  {
   "cell_type": "code",
   "execution_count": 33,
   "metadata": {},
   "outputs": [
    {
     "data": {
      "application/vnd.jupyter.widget-view+json": {
       "model_id": "5659cbcb0dde4f31881b86296dbf5ca9",
       "version_major": 2,
       "version_minor": 0
      },
      "text/plain": [
       "  0%|          | 0/1040 [00:00<?, ?it/s]"
      ]
     },
     "metadata": {},
     "output_type": "display_data"
    },
    {
     "name": "stdout",
     "output_type": "stream",
     "text": [
      "1040\n"
     ]
    }
   ],
   "source": [
    "def parser_product(json):\n",
    "    dic = dict()\n",
    "    dic['id'] = json.get('id', None)\n",
    "    dic['name'] = json.get('name', None)\n",
    "    dic['short_description'] = json.get('short_description', None)\n",
    "    dic['price'] = json.get('price', None)\n",
    "    dic['list_price'] = json.get('list_price', None)\n",
    "    dic['discount'] = json.get('discount', None)\n",
    "    dic['discount_rate'] = json.get('discount_rate', None)\n",
    "    dic['all_time_quantity_sold'] = json.get('all_time_quantity_sold', None)\n",
    "    dic['inventory_status'] = json.get('inventory_status', None)\n",
    "    dic['stock_item_qty'] = json.get('stock_item', {}).get('qty', None)\n",
    "    dic['stock_item_max_sale_qty'] = json.get('stock_item', {}).get('max_sale_qty', None)\n",
    "    return dic\n",
    "\n",
    "product_details = []\n",
    "for product_id in tqdm(products_id):\n",
    "    response = requests.get(f'https://tiki.vn/api/v2/products/{product_id}', headers=HEADERS)\n",
    "\n",
    "    if response.status_code == 200:\n",
    "        product_details.append(parser_product(response.json()))\n",
    "    else:\n",
    "        print(f'Product {product_id}: {response.status_code}')\n",
    "    \n",
    "    time.sleep(random.uniform(0.5, 2))\n",
    "\n",
    "print(len(product_details))"
   ]
  },
  {
   "cell_type": "code",
   "execution_count": 34,
   "metadata": {},
   "outputs": [],
   "source": [
    "df_product = pd.DataFrame(product_details)\n",
    "df_comment = pd.DataFrame(comments)"
   ]
  },
  {
   "cell_type": "code",
   "execution_count": null,
   "metadata": {},
   "outputs": [],
   "source": [
    "df_product.to_parquet()"
   ]
  },
  {
   "cell_type": "code",
   "execution_count": null,
   "metadata": {},
   "outputs": [],
   "source": []
  }
 ],
 "metadata": {
  "kernelspec": {
   "display_name": "venv",
   "language": "python",
   "name": "python3"
  },
  "language_info": {
   "codemirror_mode": {
    "name": "ipython",
    "version": 3
   },
   "file_extension": ".py",
   "mimetype": "text/x-python",
   "name": "python",
   "nbconvert_exporter": "python",
   "pygments_lexer": "ipython3",
   "version": "3.11.9"
  }
 },
 "nbformat": 4,
 "nbformat_minor": 2
}
